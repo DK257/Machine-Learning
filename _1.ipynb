{
  "metadata": {
    "kernelspec": {
      "language": "python",
      "display_name": "Python 3",
      "name": "python3"
    },
    "language_info": {
      "name": "python",
      "version": "3.7.10",
      "mimetype": "text/x-python",
      "codemirror_mode": {
        "name": "ipython",
        "version": 3
      },
      "pygments_lexer": "ipython3",
      "nbconvert_exporter": "python",
      "file_extension": ".py"
    },
    "kaggle": {
      "accelerator": "none",
      "dataSources": [
        {
          "sourceId": 2352468,
          "sourceType": "datasetVersion",
          "datasetId": 1420369
        }
      ],
      "dockerImageVersionId": 30096,
      "isInternetEnabled": false,
      "language": "python",
      "sourceType": "notebook",
      "isGpuEnabled": false
    },
    "colab": {
      "provenance": [],
      "include_colab_link": true
    }
  },
  "nbformat_minor": 0,
  "nbformat": 4,
  "cells": [
    {
      "cell_type": "markdown",
      "metadata": {
        "id": "view-in-github",
        "colab_type": "text"
      },
      "source": [
        "<a href=\"https://colab.research.google.com/github/DK257/Machine-Learning/blob/main/_1.ipynb\" target=\"_parent\"><img src=\"https://colab.research.google.com/assets/colab-badge.svg\" alt=\"Open In Colab\"/></a>"
      ]
    },
    {
      "source": [
        "\n",
        "# IMPORTANT: RUN THIS CELL IN ORDER TO IMPORT YOUR KAGGLE DATA SOURCES\n",
        "# TO THE CORRECT LOCATION (/kaggle/input) IN YOUR NOTEBOOK,\n",
        "# THEN FEEL FREE TO DELETE THIS CELL.\n",
        "# NOTE: THIS NOTEBOOK ENVIRONMENT DIFFERS FROM KAGGLE'S PYTHON\n",
        "# ENVIRONMENT SO THERE MAY BE MISSING LIBRARIES USED BY YOUR\n",
        "# NOTEBOOK.\n",
        "\n",
        "import os\n",
        "import sys\n",
        "from tempfile import NamedTemporaryFile\n",
        "from urllib.request import urlopen\n",
        "from urllib.parse import unquote, urlparse\n",
        "from urllib.error import HTTPError\n",
        "from zipfile import ZipFile\n",
        "import tarfile\n",
        "import shutil\n",
        "\n",
        "CHUNK_SIZE = 40960\n",
        "DATA_SOURCE_MAPPING = 'soil-types:https%3A%2F%2Fstorage.googleapis.com%2Fkaggle-data-sets%2F1420369%2F2352468%2Fbundle%2Farchive.zip%3FX-Goog-Algorithm%3DGOOG4-RSA-SHA256%26X-Goog-Credential%3Dgcp-kaggle-com%2540kaggle-161607.iam.gserviceaccount.com%252F20240602%252Fauto%252Fstorage%252Fgoog4_request%26X-Goog-Date%3D20240602T234541Z%26X-Goog-Expires%3D259200%26X-Goog-SignedHeaders%3Dhost%26X-Goog-Signature%3D81530a5b4636bd8c53fb452737f9fb324946edb52f80be0f878304499e8ab6067b297ccc043ef7875cfb9018414b6ea65d81f4c9237c0836c5d08e4a17ac8166683148c4e340094b971693b696c4573ba7707cd5132efc45c0066e4f10089425f0734da4ebd8a2968d3749d194b8e461e8b88540b78950fd54ae1ab41ba76b6fa8a15cf65bf6452ebfcbf4d0241439e18a7a70fa971f7c1d2f4f2bdf8c96d353d14381231957f7d419f7983f1dd454566ceeab9655b24ce1e3d214ed58a939e462763444a76797cbcc504799ca471d819bab3e6db7ccbf46357a261574dd16379af9b8d62ae8cbec47cc16b2ae39b64e6b1f6d11c5bbbee78a5a225ce8182de9'\n",
        "\n",
        "KAGGLE_INPUT_PATH='/kaggle/input'\n",
        "KAGGLE_WORKING_PATH='/kaggle/working'\n",
        "KAGGLE_SYMLINK='kaggle'\n",
        "\n",
        "!umount /kaggle/input/ 2> /dev/null\n",
        "shutil.rmtree('/kaggle/input', ignore_errors=True)\n",
        "os.makedirs(KAGGLE_INPUT_PATH, 0o777, exist_ok=True)\n",
        "os.makedirs(KAGGLE_WORKING_PATH, 0o777, exist_ok=True)\n",
        "\n",
        "try:\n",
        "  os.symlink(KAGGLE_INPUT_PATH, os.path.join(\"..\", 'input'), target_is_directory=True)\n",
        "except FileExistsError:\n",
        "  pass\n",
        "try:\n",
        "  os.symlink(KAGGLE_WORKING_PATH, os.path.join(\"..\", 'working'), target_is_directory=True)\n",
        "except FileExistsError:\n",
        "  pass\n",
        "\n",
        "for data_source_mapping in DATA_SOURCE_MAPPING.split(','):\n",
        "    directory, download_url_encoded = data_source_mapping.split(':')\n",
        "    download_url = unquote(download_url_encoded)\n",
        "    filename = urlparse(download_url).path\n",
        "    destination_path = os.path.join(KAGGLE_INPUT_PATH, directory)\n",
        "    try:\n",
        "        with urlopen(download_url) as fileres, NamedTemporaryFile() as tfile:\n",
        "            total_length = fileres.headers['content-length']\n",
        "            print(f'Downloading {directory}, {total_length} bytes compressed')\n",
        "            dl = 0\n",
        "            data = fileres.read(CHUNK_SIZE)\n",
        "            while len(data) > 0:\n",
        "                dl += len(data)\n",
        "                tfile.write(data)\n",
        "                done = int(50 * dl / int(total_length))\n",
        "                sys.stdout.write(f\"\\r[{'=' * done}{' ' * (50-done)}] {dl} bytes downloaded\")\n",
        "                sys.stdout.flush()\n",
        "                data = fileres.read(CHUNK_SIZE)\n",
        "            if filename.endswith('.zip'):\n",
        "              with ZipFile(tfile) as zfile:\n",
        "                zfile.extractall(destination_path)\n",
        "            else:\n",
        "              with tarfile.open(tfile.name) as tarfile:\n",
        "                tarfile.extractall(destination_path)\n",
        "            print(f'\\nDownloaded and uncompressed: {directory}')\n",
        "    except HTTPError as e:\n",
        "        print(f'Failed to load (likely expired) {download_url} to path {destination_path}')\n",
        "        continue\n",
        "    except OSError as e:\n",
        "        print(f'Failed to load {download_url} to path {destination_path}')\n",
        "        continue\n",
        "\n",
        "print('Data source import complete.')\n"
      ],
      "metadata": {
        "id": "ZUbShI5IWD0b",
        "colab": {
          "base_uri": "https://localhost:8080/"
        },
        "outputId": "32bcce3f-af5b-44c5-fcef-45699c8c1aae"
      },
      "cell_type": "code",
      "outputs": [
        {
          "output_type": "stream",
          "name": "stdout",
          "text": [
            "Downloading soil-types, 3230259 bytes compressed\n",
            "[==================================================] 3230259 bytes downloaded\n",
            "Downloaded and uncompressed: soil-types\n",
            "Data source import complete.\n"
          ]
        }
      ],
      "execution_count": null
    },
    {
      "cell_type": "code",
      "source": [
        "import numpy as np\n",
        "import pandas as pd\n",
        "\n",
        "import os\n",
        "dir_black = os.path.join('../input/soil-types/Soil types/Black Soil')\n",
        "dir_Cinder = os.path.join('../input/soil-types/Soil types/Cinder Soil')\n",
        "dir_Laterite = os.path.join('../input/soil-types/Soil types/Laterite Soil')\n",
        "dir_peat = os.path.join('../input/soil-types/Soil types/Peat Soil')\n",
        "dir_yellow = os.path.join('../input/soil-types/Soil types/Yellow Soil')\n"
      ],
      "metadata": {
        "_uuid": "8f2839f25d086af736a60e9eeb907d3b93b6e0e5",
        "_cell_guid": "b1076dfc-b9ad-4769-8c92-a6c4dae69d19",
        "_kg_hide-output": true,
        "execution": {
          "iopub.status.busy": "2024-06-02T23:34:46.479622Z",
          "iopub.execute_input": "2024-06-02T23:34:46.480062Z",
          "iopub.status.idle": "2024-06-02T23:34:46.498288Z",
          "shell.execute_reply.started": "2024-06-02T23:34:46.479973Z",
          "shell.execute_reply": "2024-06-02T23:34:46.497328Z"
        },
        "trusted": true,
        "id": "uwWvFw8BWD0e"
      },
      "execution_count": null,
      "outputs": []
    },
    {
      "cell_type": "markdown",
      "source": [
        "This is folder based data or directory based and thus the images are in folders that are again in main folder. This creates a problem of accessing the image data which aren't augmented.<br>\n",
        "The Keras has ImageDataGenerator class which generate batches of tensor image data with real-time data augmentation. The data will be looped over (in batches). Basically, it can be used to augment image data with a lot of built-in pre-processing."
      ],
      "metadata": {
        "id": "EFV0pt5JWD0f"
      }
    },
    {
      "cell_type": "code",
      "source": [
        "import tensorflow as tf\n",
        "from tensorflow import keras"
      ],
      "metadata": {
        "execution": {
          "iopub.status.busy": "2024-06-02T23:34:46.502492Z",
          "iopub.execute_input": "2024-06-02T23:34:46.505452Z",
          "iopub.status.idle": "2024-06-02T23:34:52.97668Z",
          "shell.execute_reply.started": "2024-06-02T23:34:46.505407Z",
          "shell.execute_reply": "2024-06-02T23:34:52.975399Z"
        },
        "trusted": true,
        "id": "KKY08SCrWD0g"
      },
      "execution_count": null,
      "outputs": []
    },
    {
      "cell_type": "code",
      "source": [
        "image_size = 220\n",
        "batch_size = 10\n",
        "\n",
        "\n",
        "target_size = (image_size, image_size)\n",
        "input_shape = (image_size, image_size, 3)"
      ],
      "metadata": {
        "execution": {
          "iopub.status.busy": "2024-06-02T23:34:52.983121Z",
          "iopub.execute_input": "2024-06-02T23:34:52.98795Z",
          "iopub.status.idle": "2024-06-02T23:34:52.998864Z",
          "shell.execute_reply.started": "2024-06-02T23:34:52.987879Z",
          "shell.execute_reply": "2024-06-02T23:34:52.997566Z"
        },
        "trusted": true,
        "id": "IYlSQi38WD0g"
      },
      "execution_count": null,
      "outputs": []
    },
    {
      "cell_type": "markdown",
      "source": [
        "In this, the flow_from_directory method automatically scans through all the sub-directories and sources the images along with their appropriate labels."
      ],
      "metadata": {
        "id": "wdXaORCEWD0h"
      }
    },
    {
      "cell_type": "code",
      "source": [
        "from tensorflow.keras.preprocessing.image import ImageDataGenerator\n",
        "\n",
        "train_datagen = ImageDataGenerator(rescale=1/255)\n",
        "\n",
        "\n",
        "train_generator = train_datagen.flow_from_directory(\n",
        "        '../input/soil-types/Soil types/',\n",
        "        target_size=(200, 200),\n",
        "        batch_size = batch_size,\n",
        "        classes = [ 'Black Soil','Cinder Soil', 'Laterite Soil','Peat Soil','Yellow Soil'],\n",
        "       class_mode='categorical')"
      ],
      "metadata": {
        "execution": {
          "iopub.status.busy": "2024-06-02T23:34:53.005815Z",
          "iopub.execute_input": "2024-06-02T23:34:53.009306Z",
          "iopub.status.idle": "2024-06-02T23:34:53.126486Z",
          "shell.execute_reply.started": "2024-06-02T23:34:53.009235Z",
          "shell.execute_reply": "2024-06-02T23:34:53.125246Z"
        },
        "trusted": true,
        "id": "Ndk_QmGaWD0h",
        "colab": {
          "base_uri": "https://localhost:8080/"
        },
        "outputId": "7d4fc093-d2db-40f6-a595-44c9f2547f48"
      },
      "execution_count": null,
      "outputs": [
        {
          "output_type": "stream",
          "name": "stdout",
          "text": [
            "Found 156 images belonging to 5 classes.\n"
          ]
        }
      ]
    },
    {
      "cell_type": "code",
      "source": [
        "for image_batch, label_batch in train_generator:\n",
        "  break\n",
        "  image_batch.shape, label_batch.shape"
      ],
      "metadata": {
        "execution": {
          "iopub.status.busy": "2024-06-02T23:34:53.131384Z",
          "iopub.execute_input": "2024-06-02T23:34:53.132321Z",
          "iopub.status.idle": "2024-06-02T23:34:53.233579Z",
          "shell.execute_reply.started": "2024-06-02T23:34:53.132269Z",
          "shell.execute_reply": "2024-06-02T23:34:53.23213Z"
        },
        "trusted": true,
        "id": "XlF3GG-tWD0h"
      },
      "execution_count": null,
      "outputs": []
    },
    {
      "cell_type": "code",
      "source": [
        "print (train_generator.class_indices)"
      ],
      "metadata": {
        "execution": {
          "iopub.status.busy": "2024-06-02T23:34:53.239376Z",
          "iopub.execute_input": "2024-06-02T23:34:53.242293Z",
          "iopub.status.idle": "2024-06-02T23:34:53.255624Z",
          "shell.execute_reply.started": "2024-06-02T23:34:53.242221Z",
          "shell.execute_reply": "2024-06-02T23:34:53.253983Z"
        },
        "trusted": true,
        "id": "5XWPykmFWD0i",
        "colab": {
          "base_uri": "https://localhost:8080/"
        },
        "outputId": "4b0a6399-3f24-430a-a698-1457e12e35a8"
      },
      "execution_count": null,
      "outputs": [
        {
          "output_type": "stream",
          "name": "stdout",
          "text": [
            "{'Black Soil': 0, 'Cinder Soil': 1, 'Laterite Soil': 2, 'Peat Soil': 3, 'Yellow Soil': 4}\n"
          ]
        }
      ]
    },
    {
      "cell_type": "code",
      "source": [
        "model = tf.keras.models.Sequential([\n",
        "\n",
        "    # The first convolution\n",
        "    tf.keras.layers.Conv2D(16, (3,3), activation='relu', input_shape=(220, 220, 3)),\n",
        "    tf.keras.layers.MaxPooling2D(2, 2),\n",
        "    # The second convolution\n",
        "    tf.keras.layers.Conv2D(32, (3,3), activation='relu'),\n",
        "    tf.keras.layers.MaxPooling2D(2,2),\n",
        "    # The third convolution\n",
        "    tf.keras.layers.Conv2D(64, (3,3), activation='relu'),\n",
        "    tf.keras.layers.MaxPooling2D(2,2),\n",
        "    # The fourth convolution\n",
        "    tf.keras.layers.Conv2D(64, (3,3), activation='relu'),\n",
        "    tf.keras.layers.MaxPooling2D(2,2),\n",
        "    # The fifth convolution\n",
        "    tf.keras.layers.Conv2D(64, (3,3), activation='relu'),\n",
        "    tf.keras.layers.MaxPooling2D(2,2),\n",
        "\n",
        "    # Flatten the results to feed into a dense layer\n",
        "    tf.keras.layers.Flatten(),\n",
        "    # 128 neuron in the fully-connected layer\n",
        "    tf.keras.layers.Dense(128, activation='relu'),\n",
        "    # 5 output neurons for 5 classes with the softmax activation\n",
        "    tf.keras.layers.Dense(5, activation='softmax')\n",
        "])\n",
        "\n"
      ],
      "metadata": {
        "execution": {
          "iopub.status.busy": "2024-06-02T23:34:53.260608Z",
          "iopub.execute_input": "2024-06-02T23:34:53.263455Z",
          "iopub.status.idle": "2024-06-02T23:34:53.537398Z",
          "shell.execute_reply.started": "2024-06-02T23:34:53.263378Z",
          "shell.execute_reply": "2024-06-02T23:34:53.536136Z"
        },
        "trusted": true,
        "id": "rpr75gvGWD0i"
      },
      "execution_count": null,
      "outputs": []
    },
    {
      "cell_type": "code",
      "source": [
        "model.summary()"
      ],
      "metadata": {
        "execution": {
          "iopub.status.busy": "2024-06-02T23:34:53.547412Z",
          "iopub.execute_input": "2024-06-02T23:34:53.551341Z",
          "iopub.status.idle": "2024-06-02T23:34:53.586988Z",
          "shell.execute_reply.started": "2024-06-02T23:34:53.551233Z",
          "shell.execute_reply": "2024-06-02T23:34:53.585773Z"
        },
        "trusted": true,
        "id": "Myq7jYAAWD0j",
        "colab": {
          "base_uri": "https://localhost:8080/"
        },
        "outputId": "81cae56e-74ab-4e6e-e6ae-39b0ca7a1cd6"
      },
      "execution_count": null,
      "outputs": [
        {
          "output_type": "stream",
          "name": "stdout",
          "text": [
            "Model: \"sequential_3\"\n",
            "_________________________________________________________________\n",
            " Layer (type)                Output Shape              Param #   \n",
            "=================================================================\n",
            " conv2d_15 (Conv2D)          (None, 218, 218, 16)      448       \n",
            "                                                                 \n",
            " max_pooling2d_15 (MaxPooli  (None, 109, 109, 16)      0         \n",
            " ng2D)                                                           \n",
            "                                                                 \n",
            " conv2d_16 (Conv2D)          (None, 107, 107, 32)      4640      \n",
            "                                                                 \n",
            " max_pooling2d_16 (MaxPooli  (None, 53, 53, 32)        0         \n",
            " ng2D)                                                           \n",
            "                                                                 \n",
            " conv2d_17 (Conv2D)          (None, 51, 51, 64)        18496     \n",
            "                                                                 \n",
            " max_pooling2d_17 (MaxPooli  (None, 25, 25, 64)        0         \n",
            " ng2D)                                                           \n",
            "                                                                 \n",
            " conv2d_18 (Conv2D)          (None, 23, 23, 64)        36928     \n",
            "                                                                 \n",
            " max_pooling2d_18 (MaxPooli  (None, 11, 11, 64)        0         \n",
            " ng2D)                                                           \n",
            "                                                                 \n",
            " conv2d_19 (Conv2D)          (None, 9, 9, 64)          36928     \n",
            "                                                                 \n",
            " max_pooling2d_19 (MaxPooli  (None, 4, 4, 64)          0         \n",
            " ng2D)                                                           \n",
            "                                                                 \n",
            " flatten_3 (Flatten)         (None, 1024)              0         \n",
            "                                                                 \n",
            " dense_6 (Dense)             (None, 128)               131200    \n",
            "                                                                 \n",
            " dense_7 (Dense)             (None, 5)                 645       \n",
            "                                                                 \n",
            "=================================================================\n",
            "Total params: 229285 (895.64 KB)\n",
            "Trainable params: 229285 (895.64 KB)\n",
            "Non-trainable params: 0 (0.00 Byte)\n",
            "_________________________________________________________________\n"
          ]
        }
      ]
    },
    {
      "cell_type": "code",
      "source": [
        "from tensorflow.keras.optimizers import RMSprop\n",
        "\n",
        "model.compile(loss='categorical_crossentropy',\n",
        "              optimizer=RMSprop(learning_rate=0.001),\n",
        "              metrics=['acc'])"
      ],
      "metadata": {
        "execution": {
          "iopub.status.busy": "2024-06-02T23:34:53.593607Z",
          "iopub.execute_input": "2024-06-02T23:34:53.596798Z",
          "iopub.status.idle": "2024-06-02T23:34:53.625919Z",
          "shell.execute_reply.started": "2024-06-02T23:34:53.596728Z",
          "shell.execute_reply": "2024-06-02T23:34:53.624749Z"
        },
        "trusted": true,
        "id": "HfybuXlvWD0j"
      },
      "execution_count": null,
      "outputs": []
    },
    {
      "cell_type": "code",
      "source": [
        "total_sample = train_generator.n\n",
        "n_epochs = 30"
      ],
      "metadata": {
        "execution": {
          "iopub.status.busy": "2024-06-02T23:34:53.631373Z",
          "iopub.execute_input": "2024-06-02T23:34:53.634139Z",
          "iopub.status.idle": "2024-06-02T23:34:53.641754Z",
          "shell.execute_reply.started": "2024-06-02T23:34:53.634062Z",
          "shell.execute_reply": "2024-06-02T23:34:53.640203Z"
        },
        "trusted": true,
        "id": "BJGvakQnWD0k"
      },
      "execution_count": null,
      "outputs": []
    },
    {
      "cell_type": "code",
      "source": [
        "history = model.fit(\n",
        "        train_generator,\n",
        "        steps_per_epoch = int(total_sample/batch_size),\n",
        "        epochs = n_epochs,\n",
        "        verbose = 1)"
      ],
      "metadata": {
        "execution": {
          "iopub.status.busy": "2024-06-02T23:34:53.648619Z",
          "iopub.execute_input": "2024-06-02T23:34:53.651695Z",
          "iopub.status.idle": "2024-06-02T23:38:38.838457Z",
          "shell.execute_reply.started": "2024-06-02T23:34:53.651627Z",
          "shell.execute_reply": "2024-06-02T23:38:38.837529Z"
        },
        "trusted": true,
        "id": "h2_6WnJ6WD0k",
        "colab": {
          "base_uri": "https://localhost:8080/"
        },
        "outputId": "83533159-1e46-459d-9e3a-3fa055b2851d"
      },
      "execution_count": null,
      "outputs": [
        {
          "output_type": "stream",
          "name": "stdout",
          "text": [
            "Epoch 1/30\n",
            "15/15 [==============================] - 6s 310ms/step - loss: 1.6110 - acc: 0.1986\n",
            "Epoch 2/30\n",
            "15/15 [==============================] - 5s 309ms/step - loss: 1.6250 - acc: 0.3836\n",
            "Epoch 3/30\n",
            "15/15 [==============================] - 7s 496ms/step - loss: 1.3537 - acc: 0.3630\n",
            "Epoch 4/30\n",
            "15/15 [==============================] - 6s 403ms/step - loss: 1.0237 - acc: 0.5000\n",
            "Epoch 5/30\n",
            "15/15 [==============================] - 8s 534ms/step - loss: 1.0153 - acc: 0.5274\n",
            "Epoch 6/30\n",
            "15/15 [==============================] - 7s 447ms/step - loss: 0.8884 - acc: 0.5733\n",
            "Epoch 7/30\n",
            "15/15 [==============================] - 9s 598ms/step - loss: 0.8831 - acc: 0.5822\n",
            "Epoch 8/30\n",
            "15/15 [==============================] - 5s 302ms/step - loss: 0.9597 - acc: 0.5890\n",
            "Epoch 9/30\n",
            "15/15 [==============================] - 7s 459ms/step - loss: 0.7695 - acc: 0.6986\n",
            "Epoch 10/30\n",
            "15/15 [==============================] - 8s 519ms/step - loss: 0.8757 - acc: 0.6507\n",
            "Epoch 11/30\n",
            "15/15 [==============================] - 5s 307ms/step - loss: 0.7521 - acc: 0.6644\n",
            "Epoch 12/30\n",
            "15/15 [==============================] - 6s 415ms/step - loss: 0.6964 - acc: 0.7397\n",
            "Epoch 13/30\n",
            "15/15 [==============================] - 5s 358ms/step - loss: 0.6593 - acc: 0.7397\n",
            "Epoch 14/30\n",
            "15/15 [==============================] - 6s 415ms/step - loss: 0.6728 - acc: 0.7123\n",
            "Epoch 15/30\n",
            "15/15 [==============================] - 8s 537ms/step - loss: 0.6155 - acc: 0.7740\n",
            "Epoch 16/30\n",
            "15/15 [==============================] - 5s 301ms/step - loss: 0.6034 - acc: 0.7329\n",
            "Epoch 17/30\n",
            "15/15 [==============================] - 6s 414ms/step - loss: 0.6594 - acc: 0.7740\n",
            "Epoch 18/30\n",
            "15/15 [==============================] - 5s 360ms/step - loss: 0.4175 - acc: 0.8493\n",
            "Epoch 19/30\n",
            "15/15 [==============================] - 5s 305ms/step - loss: 0.6025 - acc: 0.7603\n",
            "Epoch 20/30\n",
            "15/15 [==============================] - 6s 423ms/step - loss: 0.5126 - acc: 0.8219\n",
            "Epoch 21/30\n",
            "15/15 [==============================] - 5s 305ms/step - loss: 0.4666 - acc: 0.8425\n",
            "Epoch 22/30\n",
            "15/15 [==============================] - 5s 323ms/step - loss: 0.5332 - acc: 0.8082\n",
            "Epoch 23/30\n",
            "15/15 [==============================] - 6s 373ms/step - loss: 0.3504 - acc: 0.8836\n",
            "Epoch 24/30\n",
            "15/15 [==============================] - 5s 333ms/step - loss: 0.5195 - acc: 0.8356\n",
            "Epoch 25/30\n",
            "15/15 [==============================] - 6s 436ms/step - loss: 0.4026 - acc: 0.8493\n",
            "Epoch 26/30\n",
            "15/15 [==============================] - 6s 427ms/step - loss: 0.3900 - acc: 0.8151\n",
            "Epoch 27/30\n",
            "15/15 [==============================] - 5s 368ms/step - loss: 0.3646 - acc: 0.8699\n",
            "Epoch 28/30\n",
            "15/15 [==============================] - 5s 300ms/step - loss: 0.4593 - acc: 0.8562\n",
            "Epoch 29/30\n",
            "15/15 [==============================] - 6s 429ms/step - loss: 0.3402 - acc: 0.8699\n",
            "Epoch 30/30\n",
            "15/15 [==============================] - 5s 302ms/step - loss: 0.3303 - acc: 0.9110\n"
          ]
        }
      ]
    },
    {
      "cell_type": "code",
      "source": [
        "import matplotlib.pyplot as plt"
      ],
      "metadata": {
        "execution": {
          "iopub.status.busy": "2024-06-02T23:38:38.842879Z",
          "iopub.execute_input": "2024-06-02T23:38:38.844919Z",
          "iopub.status.idle": "2024-06-02T23:38:38.850631Z",
          "shell.execute_reply.started": "2024-06-02T23:38:38.84486Z",
          "shell.execute_reply": "2024-06-02T23:38:38.849783Z"
        },
        "trusted": true,
        "id": "CQ8vrNuqWD0k"
      },
      "execution_count": null,
      "outputs": []
    },
    {
      "cell_type": "code",
      "source": [
        "plt.figure(figsize=(7,4))\n",
        "plt.plot([i+1 for i in range(n_epochs)],history.history['acc'],'-o',c='k',lw=2,markersize=9)\n",
        "plt.grid(True)\n",
        "plt.title(\"Training accuracy with epochs\\n\",fontsize=18)\n",
        "plt.xlabel(\"Training epochs\",fontsize=15)\n",
        "plt.ylabel(\"Training accuracy\",fontsize=15)\n",
        "plt.xticks(fontsize=15)\n",
        "plt.yticks(fontsize=15)\n",
        "plt.show()"
      ],
      "metadata": {
        "execution": {
          "iopub.status.busy": "2024-06-02T23:38:38.853462Z",
          "iopub.execute_input": "2024-06-02T23:38:38.855942Z",
          "iopub.status.idle": "2024-06-02T23:38:39.08996Z",
          "shell.execute_reply.started": "2024-06-02T23:38:38.855903Z",
          "shell.execute_reply": "2024-06-02T23:38:39.089161Z"
        },
        "trusted": true,
        "id": "ULtyf8YaWD0l",
        "colab": {
          "base_uri": "https://localhost:8080/",
          "height": 455
        },
        "outputId": "b358ab1b-efde-4a10-cea8-ed210227ef0e"
      },
      "execution_count": null,
      "outputs": [
        {
          "output_type": "display_data",
          "data": {
            "text/plain": [
              "<Figure size 700x400 with 1 Axes>"
            ],
            "image/png": "[encoded data removed]"
          },
          "metadata": {}
        }
      ]
    },
    {
      "cell_type": "code",
      "source": [
        "model.save(filepath=\"save_model/\")\n",
        "model.save('my_model2')"
      ],
      "metadata": {
        "execution": {
          "iopub.status.busy": "2024-06-02T23:38:39.093687Z",
          "iopub.execute_input": "2024-06-02T23:38:39.095593Z",
          "iopub.status.idle": "2024-06-02T23:38:39.138351Z",
          "shell.execute_reply.started": "2024-06-02T23:38:39.09555Z",
          "shell.execute_reply": "2024-06-02T23:38:39.137467Z"
        },
        "trusted": true,
        "id": "Cge-dxqSWD0m"
      },
      "execution_count": null,
      "outputs": []
    },
    {
      "cell_type": "code",
      "source": [
        "converter = tf.lite.TFLiteConverter.from_saved_model('my_model')\n",
        "tflite_model = converter.convert()\n",
        "with open(\"soil.tflite\", \"wb\") as f:\n",
        "    f.write(tflite_model)"
      ],
      "metadata": {
        "execution": {
          "iopub.status.busy": "2024-06-02T23:38:42.208488Z",
          "iopub.status.idle": "2024-06-02T23:38:42.21062Z"
        },
        "trusted": true,
        "id": "Z9CUYvRqWD0m"
      },
      "execution_count": null,
      "outputs": []
    },
    {
      "cell_type": "code",
      "source": [
        "model.save_weights(\"model_weights.h5.2\")"
      ],
      "metadata": {
        "execution": {
          "iopub.status.busy": "2024-06-02T23:38:42.214001Z",
          "iopub.status.idle": "2024-06-02T23:38:42.216061Z"
        },
        "trusted": true,
        "id": "RD2GtD3nWD0n"
      },
      "execution_count": null,
      "outputs": []
    },
    {
      "cell_type": "code",
      "source": [
        "#  tf.keras.models.save_model(model, filepath=\"save_model/save_model\")"
      ],
      "metadata": {
        "execution": {
          "iopub.status.busy": "2024-06-02T23:38:42.219367Z",
          "iopub.status.idle": "2024-06-02T23:38:42.22139Z"
        },
        "trusted": true,
        "id": "tZBddlyWWD0n"
      },
      "execution_count": null,
      "outputs": []
    }
  ]
}