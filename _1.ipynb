{
  "metadata": {
    "kernelspec": {
      "language": "python",
      "display_name": "Python 3",
      "name": "python3"
    },
    "language_info": {
      "name": "python",
      "version": "3.7.10",
      "mimetype": "text/x-python",
      "codemirror_mode": {
        "name": "ipython",
        "version": 3
      },
      "pygments_lexer": "ipython3",
      "nbconvert_exporter": "python",
      "file_extension": ".py"
    },
    "kaggle": {
      "accelerator": "none",
      "dataSources": [
        {
          "sourceId": 2352468,
          "sourceType": "datasetVersion",
          "datasetId": 1420369
        }
      ],
      "dockerImageVersionId": 30096,
      "isInternetEnabled": false,
      "language": "python",
      "sourceType": "notebook",
      "isGpuEnabled": false
    },
    "colab": {
      "provenance": [],
      "include_colab_link": true
    }
  },
  "nbformat_minor": 0,
  "nbformat": 4,
  "cells": [
    {
      "cell_type": "markdown",
      "metadata": {
        "id": "view-in-github",
        "colab_type": "text"
      },
      "source": [
        "<a href=\"https://colab.research.google.com/github/DK257/Machine-Learning/blob/main/_1.ipynb\" target=\"_parent\"><img src=\"https://colab.research.google.com/assets/colab-badge.svg\" alt=\"Open In Colab\"/></a>"
      ]
    },
    {
      "cell_type": "code",
      "source": [
        "!git clone https://github.com/DK257/Machine-Learning"
      ],
      "metadata": {
        "id": "PZFeJcZpm_7F",
        "outputId": "4c679c0e-cbcc-4243-e744-5f9eeaddd1bc",
        "colab": {
          "base_uri": "https://localhost:8080/"
        }
      },
      "execution_count": 1,
      "outputs": [
        {
          "output_type": "stream",
          "name": "stdout",
          "text": [
            "fatal: destination path 'Machine-Learning' already exists and is not an empty directory.\n"
          ]
        }
      ]
    },
    {
      "cell_type": "code",
      "source": [
        "import os\n",
        "os.chdir(\"Machine-Learning\")"
      ],
      "metadata": {
        "id": "cLRSkbx8nqNn"
      },
      "execution_count": 2,
      "outputs": []
    },
    {
      "cell_type": "code",
      "source": [
        "dir_black = '/content/Machine-Learning/Black Soil'\n",
        "dir_Cinder = '/content/Machine-Learning/Cinder Soil'\n",
        "dir_Laterite = '/content/Machine-Learning/Laterite Soil'\n",
        "dir_peat = '/content/Machine-Learning/Peat Soil'\n",
        "dir_yellow = '/content/Machine-Learning/Yellow Soil'\n"
      ],
      "metadata": {
        "id": "yKBpfSRKnr4K"
      },
      "execution_count": 14,
      "outputs": []
    },
    {
      "cell_type": "code",
      "source": [
        "import tensorflow as tf\n",
        "from tensorflow import keras"
      ],
      "metadata": {
        "execution": {
          "iopub.status.busy": "2024-06-02T23:34:46.502492Z",
          "iopub.execute_input": "2024-06-02T23:34:46.505452Z",
          "iopub.status.idle": "2024-06-02T23:34:52.97668Z",
          "shell.execute_reply.started": "2024-06-02T23:34:46.505407Z",
          "shell.execute_reply": "2024-06-02T23:34:52.975399Z"
        },
        "trusted": true,
        "id": "KKY08SCrWD0g"
      },
      "execution_count": 8,
      "outputs": []
    },
    {
      "cell_type": "code",
      "source": [
        "image_size = 220\n",
        "batch_size = 10\n",
        "\n",
        "target_size = (image_size, image_size)\n",
        "input_shape = (image_size, image_size, 3)"
      ],
      "metadata": {
        "execution": {
          "iopub.status.busy": "2024-06-02T23:34:52.983121Z",
          "iopub.execute_input": "2024-06-02T23:34:52.98795Z",
          "iopub.status.idle": "2024-06-02T23:34:52.998864Z",
          "shell.execute_reply.started": "2024-06-02T23:34:52.987879Z",
          "shell.execute_reply": "2024-06-02T23:34:52.997566Z"
        },
        "trusted": true,
        "id": "IYlSQi38WD0g"
      },
      "execution_count": 9,
      "outputs": []
    },
    {
      "cell_type": "code",
      "source": [
        "from tensorflow.keras.preprocessing.image import ImageDataGenerator\n",
        "\n",
        "train_datagen = ImageDataGenerator(rescale=1/255)\n",
        "\n",
        "train_generator = train_datagen.flow_from_directory(\n",
        "        '/content/Machine-Learning/',\n",
        "        target_size=(200, 200),\n",
        "        batch_size=batch_size,\n",
        "        classes=['Black Soil', 'Cinder Soil', 'Laterite Soil', 'Peat Soil', 'Yellow Soil'],\n",
        "        class_mode='categorical')\n"
      ],
      "metadata": {
        "execution": {
          "iopub.status.busy": "2024-06-02T23:34:53.005815Z",
          "iopub.execute_input": "2024-06-02T23:34:53.009306Z",
          "iopub.status.idle": "2024-06-02T23:34:53.126486Z",
          "shell.execute_reply.started": "2024-06-02T23:34:53.009235Z",
          "shell.execute_reply": "2024-06-02T23:34:53.125246Z"
        },
        "trusted": true,
        "id": "Ndk_QmGaWD0h",
        "colab": {
          "base_uri": "https://localhost:8080/"
        },
        "outputId": "abd7f729-e000-4b82-edc6-1f73ef3fff37"
      },
      "execution_count": 15,
      "outputs": [
        {
          "output_type": "stream",
          "name": "stdout",
          "text": [
            "Found 100 images belonging to 5 classes.\n"
          ]
        }
      ]
    },
    {
      "cell_type": "code",
      "source": [
        "for image_batch, label_batch in train_generator:\n",
        "  break\n",
        "  image_batch.shape, label_batch.shape"
      ],
      "metadata": {
        "execution": {
          "iopub.status.busy": "2024-06-02T23:34:53.131384Z",
          "iopub.execute_input": "2024-06-02T23:34:53.132321Z",
          "iopub.status.idle": "2024-06-02T23:34:53.233579Z",
          "shell.execute_reply.started": "2024-06-02T23:34:53.132269Z",
          "shell.execute_reply": "2024-06-02T23:34:53.23213Z"
        },
        "trusted": true,
        "id": "XlF3GG-tWD0h"
      },
      "execution_count": 16,
      "outputs": []
    },
    {
      "cell_type": "code",
      "source": [
        "print (train_generator.class_indices)"
      ],
      "metadata": {
        "execution": {
          "iopub.status.busy": "2024-06-02T23:34:53.239376Z",
          "iopub.execute_input": "2024-06-02T23:34:53.242293Z",
          "iopub.status.idle": "2024-06-02T23:34:53.255624Z",
          "shell.execute_reply.started": "2024-06-02T23:34:53.242221Z",
          "shell.execute_reply": "2024-06-02T23:34:53.253983Z"
        },
        "trusted": true,
        "id": "5XWPykmFWD0i",
        "colab": {
          "base_uri": "https://localhost:8080/"
        },
        "outputId": "ec4834a6-a235-4a0f-8868-b3794fdb89f3"
      },
      "execution_count": 17,
      "outputs": [
        {
          "output_type": "stream",
          "name": "stdout",
          "text": [
            "{'Black Soil': 0, 'Cinder Soil': 1, 'Laterite Soil': 2, 'Peat Soil': 3, 'Yellow Soil': 4}\n"
          ]
        }
      ]
    },
    {
      "cell_type": "code",
      "source": [
        "model = tf.keras.models.Sequential([\n",
        "\n",
        "    # The first convolution\n",
        "    tf.keras.layers.Conv2D(16, (3,3), activation='relu', input_shape=(220, 220, 3)),\n",
        "    tf.keras.layers.MaxPooling2D(2, 2),\n",
        "    # The second convolution\n",
        "    tf.keras.layers.Conv2D(32, (3,3), activation='relu'),\n",
        "    tf.keras.layers.MaxPooling2D(2,2),\n",
        "    # The third convolution\n",
        "    tf.keras.layers.Conv2D(64, (3,3), activation='relu'),\n",
        "    tf.keras.layers.MaxPooling2D(2,2),\n",
        "    # The fourth convolution\n",
        "    tf.keras.layers.Conv2D(64, (3,3), activation='relu'),\n",
        "    tf.keras.layers.MaxPooling2D(2,2),\n",
        "    # The fifth convolution\n",
        "    tf.keras.layers.Conv2D(64, (3,3), activation='relu'),\n",
        "    tf.keras.layers.MaxPooling2D(2,2),\n",
        "\n",
        "    # Flatten the results to feed into a dense layer\n",
        "    tf.keras.layers.Flatten(),\n",
        "    # 128 neuron in the fully-connected layer\n",
        "    tf.keras.layers.Dense(128, activation='relu'),\n",
        "    # 5 output neurons for 5 classes with the softmax activation\n",
        "    tf.keras.layers.Dense(5, activation='softmax')\n",
        "])\n",
        "\n"
      ],
      "metadata": {
        "execution": {
          "iopub.status.busy": "2024-06-02T23:34:53.260608Z",
          "iopub.execute_input": "2024-06-02T23:34:53.263455Z",
          "iopub.status.idle": "2024-06-02T23:34:53.537398Z",
          "shell.execute_reply.started": "2024-06-02T23:34:53.263378Z",
          "shell.execute_reply": "2024-06-02T23:34:53.536136Z"
        },
        "trusted": true,
        "id": "rpr75gvGWD0i"
      },
      "execution_count": 18,
      "outputs": []
    },
    {
      "cell_type": "code",
      "source": [
        "model.summary()"
      ],
      "metadata": {
        "execution": {
          "iopub.status.busy": "2024-06-02T23:34:53.547412Z",
          "iopub.execute_input": "2024-06-02T23:34:53.551341Z",
          "iopub.status.idle": "2024-06-02T23:34:53.586988Z",
          "shell.execute_reply.started": "2024-06-02T23:34:53.551233Z",
          "shell.execute_reply": "2024-06-02T23:34:53.585773Z"
        },
        "trusted": true,
        "id": "Myq7jYAAWD0j",
        "colab": {
          "base_uri": "https://localhost:8080/"
        },
        "outputId": "f6c8c026-3962-49c9-937f-615ed0b4bdf7"
      },
      "execution_count": 19,
      "outputs": [
        {
          "output_type": "stream",
          "name": "stdout",
          "text": [
            "Model: \"sequential\"\n",
            "_________________________________________________________________\n",
            " Layer (type)                Output Shape              Param #   \n",
            "=================================================================\n",
            " conv2d (Conv2D)             (None, 218, 218, 16)      448       \n",
            "                                                                 \n",
            " max_pooling2d (MaxPooling2  (None, 109, 109, 16)      0         \n",
            " D)                                                              \n",
            "                                                                 \n",
            " conv2d_1 (Conv2D)           (None, 107, 107, 32)      4640      \n",
            "                                                                 \n",
            " max_pooling2d_1 (MaxPoolin  (None, 53, 53, 32)        0         \n",
            " g2D)                                                            \n",
            "                                                                 \n",
            " conv2d_2 (Conv2D)           (None, 51, 51, 64)        18496     \n",
            "                                                                 \n",
            " max_pooling2d_2 (MaxPoolin  (None, 25, 25, 64)        0         \n",
            " g2D)                                                            \n",
            "                                                                 \n",
            " conv2d_3 (Conv2D)           (None, 23, 23, 64)        36928     \n",
            "                                                                 \n",
            " max_pooling2d_3 (MaxPoolin  (None, 11, 11, 64)        0         \n",
            " g2D)                                                            \n",
            "                                                                 \n",
            " conv2d_4 (Conv2D)           (None, 9, 9, 64)          36928     \n",
            "                                                                 \n",
            " max_pooling2d_4 (MaxPoolin  (None, 4, 4, 64)          0         \n",
            " g2D)                                                            \n",
            "                                                                 \n",
            " flatten (Flatten)           (None, 1024)              0         \n",
            "                                                                 \n",
            " dense (Dense)               (None, 128)               131200    \n",
            "                                                                 \n",
            " dense_1 (Dense)             (None, 5)                 645       \n",
            "                                                                 \n",
            "=================================================================\n",
            "Total params: 229285 (895.64 KB)\n",
            "Trainable params: 229285 (895.64 KB)\n",
            "Non-trainable params: 0 (0.00 Byte)\n",
            "_________________________________________________________________\n"
          ]
        }
      ]
    },
    {
      "cell_type": "code",
      "source": [
        "from tensorflow.keras.optimizers import RMSprop\n",
        "\n",
        "model.compile(loss='categorical_crossentropy',\n",
        "              optimizer=RMSprop(learning_rate=0.001),\n",
        "              metrics=['acc'])"
      ],
      "metadata": {
        "execution": {
          "iopub.status.busy": "2024-06-02T23:34:53.593607Z",
          "iopub.execute_input": "2024-06-02T23:34:53.596798Z",
          "iopub.status.idle": "2024-06-02T23:34:53.625919Z",
          "shell.execute_reply.started": "2024-06-02T23:34:53.596728Z",
          "shell.execute_reply": "2024-06-02T23:34:53.624749Z"
        },
        "trusted": true,
        "id": "HfybuXlvWD0j"
      },
      "execution_count": 20,
      "outputs": []
    },
    {
      "cell_type": "code",
      "source": [
        "total_sample = train_generator.n\n",
        "n_epochs = 30"
      ],
      "metadata": {
        "execution": {
          "iopub.status.busy": "2024-06-02T23:34:53.631373Z",
          "iopub.execute_input": "2024-06-02T23:34:53.634139Z",
          "iopub.status.idle": "2024-06-02T23:34:53.641754Z",
          "shell.execute_reply.started": "2024-06-02T23:34:53.634062Z",
          "shell.execute_reply": "2024-06-02T23:34:53.640203Z"
        },
        "trusted": true,
        "id": "BJGvakQnWD0k"
      },
      "execution_count": 21,
      "outputs": []
    },
    {
      "cell_type": "code",
      "source": [
        "history = model.fit(\n",
        "        train_generator,\n",
        "        steps_per_epoch = int(total_sample/batch_size),\n",
        "        epochs = n_epochs,\n",
        "        verbose = 1)"
      ],
      "metadata": {
        "execution": {
          "iopub.status.busy": "2024-06-02T23:34:53.648619Z",
          "iopub.execute_input": "2024-06-02T23:34:53.651695Z",
          "iopub.status.idle": "2024-06-02T23:38:38.838457Z",
          "shell.execute_reply.started": "2024-06-02T23:34:53.651627Z",
          "shell.execute_reply": "2024-06-02T23:38:38.837529Z"
        },
        "trusted": true,
        "id": "h2_6WnJ6WD0k",
        "colab": {
          "base_uri": "https://localhost:8080/"
        },
        "outputId": "8a191fb1-1ed3-44e2-8111-d81700cc21a3"
      },
      "execution_count": 22,
      "outputs": [
        {
          "output_type": "stream",
          "name": "stdout",
          "text": [
            "Epoch 1/30\n",
            "10/10 [==============================] - 5s 316ms/step - loss: 1.6187 - acc: 0.2300\n",
            "Epoch 2/30\n",
            "10/10 [==============================] - 5s 456ms/step - loss: 1.4849 - acc: 0.3100\n",
            "Epoch 3/30\n",
            "10/10 [==============================] - 3s 318ms/step - loss: 1.1566 - acc: 0.4200\n",
            "Epoch 4/30\n",
            "10/10 [==============================] - 3s 300ms/step - loss: 1.1389 - acc: 0.4200\n",
            "Epoch 5/30\n",
            "10/10 [==============================] - 3s 331ms/step - loss: 1.1541 - acc: 0.4200\n",
            "Epoch 6/30\n",
            "10/10 [==============================] - 4s 413ms/step - loss: 1.1204 - acc: 0.3900\n",
            "Epoch 7/30\n",
            "10/10 [==============================] - 3s 301ms/step - loss: 0.9253 - acc: 0.4900\n",
            "Epoch 8/30\n",
            "10/10 [==============================] - 3s 303ms/step - loss: 1.0144 - acc: 0.3900\n",
            "Epoch 9/30\n",
            "10/10 [==============================] - 4s 405ms/step - loss: 0.9679 - acc: 0.5400\n",
            "Epoch 10/30\n",
            "10/10 [==============================] - 3s 307ms/step - loss: 0.7865 - acc: 0.7000\n",
            "Epoch 11/30\n",
            "10/10 [==============================] - 3s 305ms/step - loss: 0.8443 - acc: 0.6500\n",
            "Epoch 12/30\n",
            "10/10 [==============================] - 5s 464ms/step - loss: 0.8318 - acc: 0.7000\n",
            "Epoch 13/30\n",
            "10/10 [==============================] - 3s 294ms/step - loss: 0.7790 - acc: 0.6700\n",
            "Epoch 14/30\n",
            "10/10 [==============================] - 3s 309ms/step - loss: 0.8289 - acc: 0.7200\n",
            "Epoch 15/30\n",
            "10/10 [==============================] - 5s 442ms/step - loss: 0.8512 - acc: 0.6600\n",
            "Epoch 16/30\n",
            "10/10 [==============================] - 3s 299ms/step - loss: 0.5340 - acc: 0.8200\n",
            "Epoch 17/30\n",
            "10/10 [==============================] - 3s 295ms/step - loss: 0.6136 - acc: 0.8300\n",
            "Epoch 18/30\n",
            "10/10 [==============================] - 4s 378ms/step - loss: 0.4034 - acc: 0.8500\n",
            "Epoch 19/30\n",
            "10/10 [==============================] - 3s 301ms/step - loss: 0.6520 - acc: 0.7500\n",
            "Epoch 20/30\n",
            "10/10 [==============================] - 3s 300ms/step - loss: 0.5318 - acc: 0.8500\n",
            "Epoch 21/30\n",
            "10/10 [==============================] - 3s 294ms/step - loss: 0.5915 - acc: 0.7600\n",
            "Epoch 22/30\n",
            "10/10 [==============================] - 3s 300ms/step - loss: 0.4630 - acc: 0.8500\n",
            "Epoch 23/30\n",
            "10/10 [==============================] - 3s 295ms/step - loss: 0.2649 - acc: 0.9100\n",
            "Epoch 24/30\n",
            "10/10 [==============================] - 4s 381ms/step - loss: 0.6357 - acc: 0.7500\n",
            "Epoch 25/30\n",
            "10/10 [==============================] - 3s 305ms/step - loss: 0.3617 - acc: 0.8900\n",
            "Epoch 26/30\n",
            "10/10 [==============================] - 3s 346ms/step - loss: 0.3745 - acc: 0.9000\n",
            "Epoch 27/30\n",
            "10/10 [==============================] - 5s 459ms/step - loss: 0.3308 - acc: 0.9100\n",
            "Epoch 28/30\n",
            "10/10 [==============================] - 3s 292ms/step - loss: 0.3041 - acc: 0.9300\n",
            "Epoch 29/30\n",
            "10/10 [==============================] - 3s 306ms/step - loss: 0.1721 - acc: 0.9500\n",
            "Epoch 30/30\n",
            "10/10 [==============================] - 4s 408ms/step - loss: 0.6448 - acc: 0.8400\n"
          ]
        }
      ]
    },
    {
      "cell_type": "code",
      "source": [
        "import matplotlib.pyplot as plt"
      ],
      "metadata": {
        "execution": {
          "iopub.status.busy": "2024-06-02T23:38:38.842879Z",
          "iopub.execute_input": "2024-06-02T23:38:38.844919Z",
          "iopub.status.idle": "2024-06-02T23:38:38.850631Z",
          "shell.execute_reply.started": "2024-06-02T23:38:38.84486Z",
          "shell.execute_reply": "2024-06-02T23:38:38.849783Z"
        },
        "trusted": true,
        "id": "CQ8vrNuqWD0k"
      },
      "execution_count": 23,
      "outputs": []
    },
    {
      "cell_type": "code",
      "source": [
        "plt.figure(figsize=(7,4))\n",
        "plt.plot([i+1 for i in range(n_epochs)],history.history['acc'],'-o',c='k',lw=2,markersize=9)\n",
        "plt.grid(True)\n",
        "plt.title(\"Training accuracy with epochs\\n\",fontsize=18)\n",
        "plt.xlabel(\"Training epochs\",fontsize=15)\n",
        "plt.ylabel(\"Training accuracy\",fontsize=15)\n",
        "plt.xticks(fontsize=15)\n",
        "plt.yticks(fontsize=15)\n",
        "plt.show()"
      ],
      "metadata": {
        "execution": {
          "iopub.status.busy": "2024-06-02T23:38:38.853462Z",
          "iopub.execute_input": "2024-06-02T23:38:38.855942Z",
          "iopub.status.idle": "2024-06-02T23:38:39.08996Z",
          "shell.execute_reply.started": "2024-06-02T23:38:38.855903Z",
          "shell.execute_reply": "2024-06-02T23:38:39.089161Z"
        },
        "trusted": true,
        "id": "ULtyf8YaWD0l",
        "colab": {
          "base_uri": "https://localhost:8080/",
          "height": 455
        },
        "outputId": "0127cf01-1f54-4148-ef7e-4fc1cc0f3ad5"
      },
      "execution_count": 24,
      "outputs": [
        {
          "output_type": "display_data",
          "data": {
            "text/plain": [
              "<Figure size 700x400 with 1 Axes>"
            ],
            "image/png": "[encoded data removed]"
          },
          "metadata": {}
        }
      ]
    },
    {
      "cell_type": "code",
      "source": [
        "model.save(filepath=\"/content/Machine-Learning/save_model/\")\n",
        "model.save('my_model2')"
      ],
      "metadata": {
        "execution": {
          "iopub.status.busy": "2024-06-02T23:38:39.093687Z",
          "iopub.execute_input": "2024-06-02T23:38:39.095593Z",
          "iopub.status.idle": "2024-06-02T23:38:39.138351Z",
          "shell.execute_reply.started": "2024-06-02T23:38:39.09555Z",
          "shell.execute_reply": "2024-06-02T23:38:39.137467Z"
        },
        "trusted": true,
        "id": "Cge-dxqSWD0m"
      },
      "execution_count": 28,
      "outputs": []
    },
    {
      "cell_type": "code",
      "source": [
        "converter = tf.lite.TFLiteConverter.from_saved_model('/content/Machine-Learning/save_model/')\n",
        "tflite_model = converter.convert()\n",
        "with open(\"soil.tflite\", \"wb\") as f:\n",
        "    f.write(tflite_model)"
      ],
      "metadata": {
        "execution": {
          "iopub.status.busy": "2024-06-02T23:38:42.208488Z",
          "iopub.status.idle": "2024-06-02T23:38:42.21062Z"
        },
        "trusted": true,
        "id": "Z9CUYvRqWD0m"
      },
      "execution_count": 29,
      "outputs": []
    },
    {
      "cell_type": "code",
      "source": [
        "model.save_weights(\"model_weights.h5.2\")"
      ],
      "metadata": {
        "execution": {
          "iopub.status.busy": "2024-06-02T23:38:42.214001Z",
          "iopub.status.idle": "2024-06-02T23:38:42.216061Z"
        },
        "trusted": true,
        "id": "RD2GtD3nWD0n"
      },
      "execution_count": 30,
      "outputs": []
    },
    {
      "cell_type": "code",
      "source": [
        "#  tf.keras.models.save_model(model, filepath=\"save_model/save_model\")"
      ],
      "metadata": {
        "execution": {
          "iopub.status.busy": "2024-06-02T23:38:42.219367Z",
          "iopub.status.idle": "2024-06-02T23:38:42.22139Z"
        },
        "trusted": true,
        "id": "tZBddlyWWD0n"
      },
      "execution_count": null,
      "outputs": []
    }
  ]
}